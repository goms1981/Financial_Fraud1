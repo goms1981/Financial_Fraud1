{
 "cells": [
  {
   "cell_type": "markdown",
   "metadata": {},
   "source": [
    "## 1. Which insights did you gain from your EDA? \n",
    "### Datas should be downsized in order to run smoothly. It could be seen with the isFraud hue that the only fraudulent cases are within the types 'TRANSFER' and 'CASH-OUT'.There were no null values to be seen within this dataset.According to correlation matrix oldbalanceDest and newbalanceDest have a very strong correlation. Amount is moderately correlated with both oldbalanceDest and newbalanceDest. isFraud has low correlations with most other features, pointing  that fraudulent activity may not be directly linked to simple numerical values like transaction amount or balances. It's depend more on Transaction type.\n",
    "\n",
    "\n",
    "## 2. How did you determine which columns to drop or keep? If your EDA informed this process, explain which insights you used to determine which columns were not needed. \n",
    "### Based on the EDA, the nameOrig and nameDest columns these are unique account IDs and do not provide numerical or meaningful categorical patterns for analysis.As an example, the nameOrig and nameDest columns did not produce any graphical data in their univariate analysis.\n",
    "\n",
    "\n",
    "## 3. Which hyperparameter tuning strategy did you use? Grid-search or random-search? Why? \n",
    " ### I used  random-search due to how it is works well for large datasets compared to a grid search.\n",
    "\n",
    "## 4. How did your model's performance change after discovering optimal hyperparameters? \n",
    "\n",
    "  ### knn= KNeighborsClassifier()\n",
    "### random_search = RandomizedSearchCV(\n",
    "### knn, param_distributions=param_dist, \n",
    "###   n_iter=10,  # Reduce number of iterations \n",
    "###   scoring='f1', cv=3,  # Reduce cross-validation folds from 5 to 3\n",
    " ###    random_state=42, n_jobs=-1\n",
    ")\n",
    "### random_search.fit(X_train,y_train)\n",
    "### print(\"Best Hyperparameters:\",random_search.best_params_)\n",
    "\n",
    "\n",
    "## v. What was your final F1 Score? \n",
    "###           precision    recall  f1-score   support\n",
    "\n",
    "  ### Not Fraud       1.00      1.00      1.00   1906351\n",
    "  ###  Fraud       0.36      0.41      0.38      2435\n",
    "\n",
    " ### accuracy                           1.00   1908786\n",
    "### macro avg       0.68      0.70      0.69   1908786\n",
    "### weighted avg       1.00      1.00      1.00   1908786\n",
    "\n",
    "### Accuracy: 1.00\n",
    "\n",
    "### The Final scoring is 1 indicating high precision and recall"
   ]
  },
  {
   "cell_type": "markdown",
   "metadata": {},
   "source": []
  },
  {
   "cell_type": "code",
   "execution_count": null,
   "metadata": {},
   "outputs": [],
   "source": [
    "\n"
   ]
  }
 ],
 "metadata": {
  "language_info": {
   "name": "python"
  }
 },
 "nbformat": 4,
 "nbformat_minor": 2
}
